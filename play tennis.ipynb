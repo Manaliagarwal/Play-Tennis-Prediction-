{
 "cells": [
  {
   "cell_type": "code",
   "execution_count": 1,
   "metadata": {},
   "outputs": [],
   "source": [
    "import pandas as pd"
   ]
  },
  {
   "cell_type": "code",
   "execution_count": 37,
   "metadata": {},
   "outputs": [
    {
     "name": "stdout",
     "output_type": "stream",
     "text": [
      "   Days   Outlook  Temp Humidity    Wind Play Tennis\n",
      "0    D1     sunny   hot     high    weak          no\n",
      "1    D2     sunny   hot     high  strong          no\n",
      "2    D3  overcast   hot     high    weak         yes\n",
      "3    D4      rain  mild     high    weak         yes\n",
      "4    D5      rain  cool   normal    weak         yes\n",
      "5    D6      rain  cool   normal  strong          no\n",
      "6    D7  overcast  cool   normal  strong         yes\n",
      "7    D8     sunny  mild     high    weak          no\n",
      "8    D9     sunny  cool   normal    weak         yes\n",
      "9   D10      rain  mild   normal    weak         yes\n",
      "10  D11     sunny  mild   normal  strong         yes\n",
      "11  D12  overcast  mild     high  strong         yes\n",
      "12  D13  overcast   hot   normal    weak         yes\n",
      "13  D14      rain  mild     high  strong          no\n"
     ]
    }
   ],
   "source": [
    "data=pd.read_csv(r\"C:\\Users\\Manali\\Desktop\\datasets\\play tennis.csv\")\n",
    "data.head()\n",
    "print(data)"
   ]
  },
  {
   "cell_type": "code",
   "execution_count": 3,
   "metadata": {},
   "outputs": [],
   "source": [
    "play_yes=data[data['Play Tennis']=='yes']\n",
    "play_no=data[data['Play Tennis']=='no']"
   ]
  },
  {
   "cell_type": "code",
   "execution_count": 4,
   "metadata": {},
   "outputs": [
    {
     "name": "stdout",
     "output_type": "stream",
     "text": [
      "   Days   Outlook  Temp Humidity    Wind Play Tennis\n",
      "2    D3  overcast   hot     high    weak         yes\n",
      "3    D4      rain  mild     high    weak         yes\n",
      "4    D5      rain  cool   normal    weak         yes\n",
      "6    D7  overcast  cool   normal  strong         yes\n",
      "8    D9     sunny  cool   normal    weak         yes\n",
      "9   D10      rain  mild   normal    weak         yes\n",
      "10  D11     sunny  mild   normal  strong         yes\n",
      "11  D12  overcast  mild     high  strong         yes\n",
      "12  D13  overcast   hot   normal    weak         yes\n"
     ]
    }
   ],
   "source": [
    "print(play_yes)"
   ]
  },
  {
   "cell_type": "code",
   "execution_count": 5,
   "metadata": {},
   "outputs": [
    {
     "name": "stdout",
     "output_type": "stream",
     "text": [
      "   Days Outlook  Temp Humidity    Wind Play Tennis\n",
      "0    D1   sunny   hot     high    weak          no\n",
      "1    D2   sunny   hot     high  strong          no\n",
      "5    D6    rain  cool   normal  strong          no\n",
      "7    D8   sunny  mild     high    weak          no\n",
      "13  D14    rain  mild     high  strong          no\n"
     ]
    }
   ],
   "source": [
    "print(play_no)"
   ]
  },
  {
   "cell_type": "code",
   "execution_count": 11,
   "metadata": {},
   "outputs": [],
   "source": [
    "probability_play_yes = len(play_yes) / len(data)\n",
    "probability_play_no = len(play_no) / len(data)"
   ]
  },
  {
   "cell_type": "code",
   "execution_count": 12,
   "metadata": {},
   "outputs": [
    {
     "name": "stdout",
     "output_type": "stream",
     "text": [
      "0.6428571428571429\n"
     ]
    }
   ],
   "source": [
    "print(probability_play_yes)\n"
   ]
  },
  {
   "cell_type": "code",
   "execution_count": 13,
   "metadata": {
    "scrolled": true
   },
   "outputs": [
    {
     "name": "stdout",
     "output_type": "stream",
     "text": [
      "0.35714285714285715\n"
     ]
    }
   ],
   "source": [
    "print(probability_play_no)"
   ]
  },
  {
   "cell_type": "code",
   "execution_count": 27,
   "metadata": {},
   "outputs": [
    {
     "name": "stdout",
     "output_type": "stream",
     "text": [
      "   Days Outlook  Temp Humidity    Wind Play Tennis\n",
      "8    D9   sunny  cool   normal    weak         yes\n",
      "10  D11   sunny  mild   normal  strong         yes\n",
      "0.2222222222222222\n",
      "  Days Outlook  Temp Humidity    Wind Play Tennis\n",
      "0   D1   sunny   hot     high    weak          no\n",
      "1   D2   sunny   hot     high  strong          no\n",
      "7   D8   sunny  mild     high    weak          no\n",
      "0.6\n",
      "   Days   Outlook  Temp Humidity    Wind Play Tennis\n",
      "2    D3  overcast   hot     high    weak         yes\n",
      "6    D7  overcast  cool   normal  strong         yes\n",
      "11  D12  overcast  mild     high  strong         yes\n",
      "12  D13  overcast   hot   normal    weak         yes\n",
      "0.4444444444444444\n",
      "Empty DataFrame\n",
      "Columns: [Days, Outlook, Temp, Humidity, Wind, Play Tennis]\n",
      "Index: []\n",
      "0.0\n",
      "  Days Outlook  Temp Humidity  Wind Play Tennis\n",
      "3   D4    rain  mild     high  weak         yes\n",
      "4   D5    rain  cool   normal  weak         yes\n",
      "9  D10    rain  mild   normal  weak         yes\n",
      "0.3333333333333333\n",
      "   Days Outlook  Temp Humidity    Wind Play Tennis\n",
      "5    D6    rain  cool   normal  strong          no\n",
      "13  D14    rain  mild     high  strong          no\n",
      "0.4\n"
     ]
    },
    {
     "name": "stderr",
     "output_type": "stream",
     "text": [
      "C:\\ProgramData\\Anaconda3\\lib\\site-packages\\ipykernel_launcher.py:1: UserWarning: Boolean Series key will be reindexed to match DataFrame index.\n",
      "  \"\"\"Entry point for launching an IPython kernel.\n",
      "C:\\ProgramData\\Anaconda3\\lib\\site-packages\\ipykernel_launcher.py:6: UserWarning: Boolean Series key will be reindexed to match DataFrame index.\n",
      "  \n",
      "C:\\ProgramData\\Anaconda3\\lib\\site-packages\\ipykernel_launcher.py:11: UserWarning: Boolean Series key will be reindexed to match DataFrame index.\n",
      "  # This is added back by InteractiveShellApp.init_path()\n",
      "C:\\ProgramData\\Anaconda3\\lib\\site-packages\\ipykernel_launcher.py:16: UserWarning: Boolean Series key will be reindexed to match DataFrame index.\n",
      "  app.launch_new_instance()\n",
      "C:\\ProgramData\\Anaconda3\\lib\\site-packages\\ipykernel_launcher.py:21: UserWarning: Boolean Series key will be reindexed to match DataFrame index.\n",
      "C:\\ProgramData\\Anaconda3\\lib\\site-packages\\ipykernel_launcher.py:26: UserWarning: Boolean Series key will be reindexed to match DataFrame index.\n"
     ]
    }
   ],
   "source": [
    "# probability of outlook\n",
    "\n",
    "sunny_yes=data[data['Outlook']=='sunny'][data['Play Tennis']=='yes']\n",
    "probability_sunny_yes = len(sunny_yes) / len(play_yes)\n",
    "print(sunny_yes)\n",
    "print(probability_sunny_yes)\n",
    "\n",
    "sunny_no=data[data['Outlook']=='sunny'][data['Play Tennis']=='no']\n",
    "probability_sunny_no = len(sunny_no) / len(play_no)\n",
    "print(sunny_no)\n",
    "print(probability_sunny_no)\n",
    "\n",
    "overcast_yes=data[data['Outlook']=='overcast'][data['Play Tennis']=='yes']\n",
    "probability_overcast_yes = len(overcast_yes) / len(play_yes)\n",
    "print(overcast_yes)\n",
    "print(probability_overcast_yes)\n",
    "\n",
    "overcast_no=data[data['Outlook']=='overcast'][data['Play Tennis']=='no']\n",
    "probability_overcast_no = len(overcast_no) / len(play_no)\n",
    "print(overcast_no)\n",
    "print(probability_overcast_no)\n",
    "\n",
    "rain_yes=data[data['Outlook']=='rain'][data['Play Tennis']=='yes']\n",
    "probability_rain_yes = len(rain_yes) / len(play_yes)\n",
    "print(rain_yes)\n",
    "print(probability_rain_yes)\n",
    "\n",
    "rain_no=data[data['Outlook']=='rain'][data['Play Tennis']=='no']\n",
    "probability_rain_no = len(rain_no) / len(play_no)\n",
    "print(rain_no)\n",
    "print(probability_rain_no)"
   ]
  },
  {
   "cell_type": "code",
   "execution_count": 38,
   "metadata": {},
   "outputs": [
    {
     "name": "stdout",
     "output_type": "stream",
     "text": [
      "  Days   Outlook  Temp Humidity    Wind Play Tennis\n",
      "4   D5      rain  cool   normal    weak         yes\n",
      "6   D7  overcast  cool   normal  strong         yes\n",
      "8   D9     sunny  cool   normal    weak         yes\n",
      "0.3333333333333333\n",
      "  Days Outlook  Temp Humidity    Wind Play Tennis\n",
      "5   D6    rain  cool   normal  strong          no\n",
      "0.2\n",
      "   Days   Outlook  Temp Humidity    Wind Play Tennis\n",
      "3    D4      rain  mild     high    weak         yes\n",
      "9   D10      rain  mild   normal    weak         yes\n",
      "10  D11     sunny  mild   normal  strong         yes\n",
      "11  D12  overcast  mild     high  strong         yes\n",
      "0.4444444444444444\n",
      "   Days Outlook  Temp Humidity    Wind Play Tennis\n",
      "7    D8   sunny  mild     high    weak          no\n",
      "13  D14    rain  mild     high  strong          no\n",
      "0.4\n",
      "   Days   Outlook Temp Humidity  Wind Play Tennis\n",
      "2    D3  overcast  hot     high  weak         yes\n",
      "12  D13  overcast  hot   normal  weak         yes\n",
      "0.2222222222222222\n",
      "  Days Outlook Temp Humidity    Wind Play Tennis\n",
      "0   D1   sunny  hot     high    weak          no\n",
      "1   D2   sunny  hot     high  strong          no\n",
      "0.4\n"
     ]
    },
    {
     "name": "stderr",
     "output_type": "stream",
     "text": [
      "C:\\ProgramData\\Anaconda3\\lib\\site-packages\\ipykernel_launcher.py:3: UserWarning: Boolean Series key will be reindexed to match DataFrame index.\n",
      "  This is separate from the ipykernel package so we can avoid doing imports until\n",
      "C:\\ProgramData\\Anaconda3\\lib\\site-packages\\ipykernel_launcher.py:8: UserWarning: Boolean Series key will be reindexed to match DataFrame index.\n",
      "  \n",
      "C:\\ProgramData\\Anaconda3\\lib\\site-packages\\ipykernel_launcher.py:13: UserWarning: Boolean Series key will be reindexed to match DataFrame index.\n",
      "  del sys.path[0]\n",
      "C:\\ProgramData\\Anaconda3\\lib\\site-packages\\ipykernel_launcher.py:18: UserWarning: Boolean Series key will be reindexed to match DataFrame index.\n",
      "C:\\ProgramData\\Anaconda3\\lib\\site-packages\\ipykernel_launcher.py:23: UserWarning: Boolean Series key will be reindexed to match DataFrame index.\n",
      "C:\\ProgramData\\Anaconda3\\lib\\site-packages\\ipykernel_launcher.py:28: UserWarning: Boolean Series key will be reindexed to match DataFrame index.\n"
     ]
    }
   ],
   "source": [
    "# probability of temperature\n",
    "\n",
    "cool_yes=data[data['Temp']=='cool'][data['Play Tennis']=='yes']\n",
    "probability_cool_yes = len(cool_yes) / len(play_yes)\n",
    "print(cool_yes)\n",
    "print(probability_cool_yes)\n",
    "\n",
    "cool_no=data[data['Temp']=='cool'][data['Play Tennis']=='no']\n",
    "probability_cool_no =len(cool_no) / len(play_no)\n",
    "print(cool_no)\n",
    "print(probability_cool_no)\n",
    "\n",
    "mild_yes=data[data['Temp']=='mild'][data['Play Tennis']=='yes']\n",
    "probability_mild_yes = len(mild_yes) / len(play_yes)\n",
    "print(mild_yes)\n",
    "print(probability_mild_yes)\n",
    "\n",
    "mild_no=data[data['Temp']=='mild'][data['Play Tennis']=='no']\n",
    "probability_mild_no = len(mild_no) / len(play_no)\n",
    "print(mild_no)\n",
    "print(probability_mild_no)\n",
    "\n",
    "hot_yes=data[data['Temp']=='hot'][data['Play Tennis']=='yes']\n",
    "probability_hot_yes = len(hot_yes) / len(play_yes)\n",
    "print(hot_yes)\n",
    "print(probability_hot_yes)\n",
    "\n",
    "hot_no=data[data['Temp']=='hot'][data['Play Tennis']=='no']\n",
    "probability_hot_no = len(hot_no) / len(play_no)\n",
    "print(hot_no)\n",
    "print(probability_hot_no)"
   ]
  },
  {
   "cell_type": "code",
   "execution_count": 29,
   "metadata": {},
   "outputs": [
    {
     "name": "stdout",
     "output_type": "stream",
     "text": [
      "   Days   Outlook  Temp Humidity    Wind Play Tennis\n",
      "2    D3  overcast   hot     high    weak         yes\n",
      "3    D4      rain  mild     high    weak         yes\n",
      "11  D12  overcast  mild     high  strong         yes\n",
      "0.3333333333333333\n",
      "   Days Outlook  Temp Humidity    Wind Play Tennis\n",
      "0    D1   sunny   hot     high    weak          no\n",
      "1    D2   sunny   hot     high  strong          no\n",
      "7    D8   sunny  mild     high    weak          no\n",
      "13  D14    rain  mild     high  strong          no\n",
      "0.8\n",
      "   Days   Outlook  Temp Humidity    Wind Play Tennis\n",
      "4    D5      rain  cool   normal    weak         yes\n",
      "6    D7  overcast  cool   normal  strong         yes\n",
      "8    D9     sunny  cool   normal    weak         yes\n",
      "9   D10      rain  mild   normal    weak         yes\n",
      "10  D11     sunny  mild   normal  strong         yes\n",
      "12  D13  overcast   hot   normal    weak         yes\n",
      "0.6666666666666666\n",
      "  Days Outlook  Temp Humidity    Wind Play Tennis\n",
      "5   D6    rain  cool   normal  strong          no\n",
      "0.2\n"
     ]
    },
    {
     "name": "stderr",
     "output_type": "stream",
     "text": [
      "C:\\ProgramData\\Anaconda3\\lib\\site-packages\\ipykernel_launcher.py:3: UserWarning: Boolean Series key will be reindexed to match DataFrame index.\n",
      "  This is separate from the ipykernel package so we can avoid doing imports until\n",
      "C:\\ProgramData\\Anaconda3\\lib\\site-packages\\ipykernel_launcher.py:8: UserWarning: Boolean Series key will be reindexed to match DataFrame index.\n",
      "  \n",
      "C:\\ProgramData\\Anaconda3\\lib\\site-packages\\ipykernel_launcher.py:13: UserWarning: Boolean Series key will be reindexed to match DataFrame index.\n",
      "  del sys.path[0]\n",
      "C:\\ProgramData\\Anaconda3\\lib\\site-packages\\ipykernel_launcher.py:18: UserWarning: Boolean Series key will be reindexed to match DataFrame index.\n"
     ]
    }
   ],
   "source": [
    "# probability of humidity\n",
    "\n",
    "high_yes=data[data['Humidity']=='high'][data['Play Tennis']=='yes']\n",
    "probability_high_yes = len(high_yes) / len(play_yes)\n",
    "print(high_yes)\n",
    "print(probability_high_yes)\n",
    "\n",
    "high_no=data[data['Humidity']=='high'][data['Play Tennis']=='no']\n",
    "probability_high_no = len(high_no) / len(play_no)\n",
    "print(high_no)\n",
    "print(probability_high_no)\n",
    "\n",
    "normal_yes=data[data['Humidity']=='normal'][data['Play Tennis']=='yes']\n",
    "probability_normal_yes = len(normal_yes) / len(play_yes)\n",
    "print(normal_yes)\n",
    "print(probability_normal_yes)\n",
    "\n",
    "normal_no=data[data['Humidity']=='normal'][data['Play Tennis']=='no']\n",
    "probability_normal_no = len(normal_no) / len(play_no)\n",
    "print(normal_no)\n",
    "print(probability_normal_no)"
   ]
  },
  {
   "cell_type": "code",
   "execution_count": 31,
   "metadata": {},
   "outputs": [
    {
     "name": "stdout",
     "output_type": "stream",
     "text": [
      "   Days   Outlook  Temp Humidity  Wind Play Tennis\n",
      "2    D3  overcast   hot     high  weak         yes\n",
      "3    D4      rain  mild     high  weak         yes\n",
      "4    D5      rain  cool   normal  weak         yes\n",
      "8    D9     sunny  cool   normal  weak         yes\n",
      "9   D10      rain  mild   normal  weak         yes\n",
      "12  D13  overcast   hot   normal  weak         yes\n",
      "0.6666666666666666\n",
      "  Days Outlook  Temp Humidity  Wind Play Tennis\n",
      "0   D1   sunny   hot     high  weak          no\n",
      "7   D8   sunny  mild     high  weak          no\n",
      "0.4\n",
      "   Days   Outlook  Temp Humidity    Wind Play Tennis\n",
      "6    D7  overcast  cool   normal  strong         yes\n",
      "10  D11     sunny  mild   normal  strong         yes\n",
      "11  D12  overcast  mild     high  strong         yes\n",
      "0.3333333333333333\n",
      "   Days Outlook  Temp Humidity    Wind Play Tennis\n",
      "1    D2   sunny   hot     high  strong          no\n",
      "5    D6    rain  cool   normal  strong          no\n",
      "13  D14    rain  mild     high  strong          no\n",
      "0.6\n"
     ]
    },
    {
     "name": "stderr",
     "output_type": "stream",
     "text": [
      "C:\\ProgramData\\Anaconda3\\lib\\site-packages\\ipykernel_launcher.py:1: UserWarning: Boolean Series key will be reindexed to match DataFrame index.\n",
      "  \"\"\"Entry point for launching an IPython kernel.\n",
      "C:\\ProgramData\\Anaconda3\\lib\\site-packages\\ipykernel_launcher.py:6: UserWarning: Boolean Series key will be reindexed to match DataFrame index.\n",
      "  \n",
      "C:\\ProgramData\\Anaconda3\\lib\\site-packages\\ipykernel_launcher.py:11: UserWarning: Boolean Series key will be reindexed to match DataFrame index.\n",
      "  # This is added back by InteractiveShellApp.init_path()\n",
      "C:\\ProgramData\\Anaconda3\\lib\\site-packages\\ipykernel_launcher.py:16: UserWarning: Boolean Series key will be reindexed to match DataFrame index.\n",
      "  app.launch_new_instance()\n"
     ]
    }
   ],
   "source": [
    "weak_yes=data[data['Wind']=='weak'][data['Play Tennis']=='yes']\n",
    "probability_weak_yes=len(weak_yes)/len(play_yes)\n",
    "print(weak_yes)\n",
    "print(probability_weak_yes)\n",
    "\n",
    "weak_no=data[data['Wind']=='weak'][data['Play Tennis']=='no']\n",
    "probability_weak_no=len(weak_no)/len(play_no)\n",
    "print(weak_no)\n",
    "print(probability_weak_no)\n",
    "\n",
    "strong_yes=data[data['Wind']=='strong'][data['Play Tennis']=='yes']\n",
    "probability_strong_yes=len(strong_yes)/len(play_yes)\n",
    "print(strong_yes)\n",
    "print(probability_strong_yes)\n",
    "\n",
    "strong_no=data[data['Wind']=='strong'][data['Play Tennis']=='no']\n",
    "probability_strong_no=len(strong_yes)/len(play_no)\n",
    "print(strong_no)\n",
    "print(probability_strong_no)"
   ]
  },
  {
   "cell_type": "code",
   "execution_count": 39,
   "metadata": {},
   "outputs": [
    {
     "name": "stdout",
     "output_type": "stream",
     "text": [
      "0.005291005291005291\n",
      "0.02057142857142857\n"
     ]
    }
   ],
   "source": [
    "# calculate probability when test data=(sunny,cool,high,strong)\n",
    "\n",
    "test_data_yes=probability_play_yes*probability_sunny_yes*probability_cool_yes*probability_high_yes*probability_strong_yes\n",
    "print(test_data_yes)\n",
    "\n",
    "\n",
    "test_data_no=probability_play_no*probability_sunny_no*probability_cool_no*probability_high_no*probability_strong_no\n",
    "print(test_data_no)"
   ]
  },
  {
   "cell_type": "code",
   "execution_count": null,
   "metadata": {},
   "outputs": [],
   "source": []
  }
 ],
 "metadata": {
  "kernelspec": {
   "display_name": "Python 3",
   "language": "python",
   "name": "python3"
  },
  "language_info": {
   "codemirror_mode": {
    "name": "ipython",
    "version": 3
   },
   "file_extension": ".py",
   "mimetype": "text/x-python",
   "name": "python",
   "nbconvert_exporter": "python",
   "pygments_lexer": "ipython3",
   "version": "3.7.3"
  }
 },
 "nbformat": 4,
 "nbformat_minor": 2
}
